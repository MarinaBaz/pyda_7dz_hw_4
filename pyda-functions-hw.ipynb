{
 "cells": [
  {
   "cell_type": "markdown",
   "metadata": {},
   "source": [
    "# Функции. Д/З к лекции 4"
   ]
  },
  {
   "cell_type": "markdown",
   "metadata": {},
   "source": [
    "## Задание 1"
   ]
  },
  {
   "cell_type": "markdown",
   "metadata": {},
   "source": [
    "Дан список вида:"
   ]
  },
  {
   "cell_type": "code",
   "execution_count": 1,
   "metadata": {},
   "outputs": [],
   "source": [
    "data = [\n",
    "    [13, 25, 23, 34],\n",
    "    [45, 32, 44, 47],\n",
    "    [12, 33, 23, 95],\n",
    "    [13, 53, 34, 35]\n",
    "]"
   ]
  },
  {
   "cell_type": "markdown",
   "metadata": {},
   "source": [
    "Напишите функцию, которая возвращает сумму элементов на диагонали. Т. е. 13+32+23+35.  \n",
    "Список может быть любой длины, но всегда является \"квадратным\" (количество элементов во вложенных списках равно их количеству)."
   ]
  },
  {
   "cell_type": "code",
   "execution_count": 4,
   "metadata": {},
   "outputs": [
    {
     "name": "stdout",
     "output_type": "stream",
     "text": [
      "103\n"
     ]
    }
   ],
   "source": [
    "def diagonal(list):\n",
    "    \"\"\"\n",
    "    function that returns the sum of the elements on the diagonal in list\n",
    "    \"\"\"\n",
    "    sum = 0\n",
    "    for el in data:\n",
    "        sum += el[data.index(el)]\n",
    "    return sum\n",
    "\n",
    "sum = diagonal(data)\n",
    "print(sum)    "
   ]
  },
  {
   "cell_type": "markdown",
   "metadata": {},
   "source": [
    "## Задание 2"
   ]
  },
  {
   "cell_type": "markdown",
   "metadata": {},
   "source": [
    "Напишите функцию, возвращающую сумму первых n чисел Фибоначчи (для этого вам может понадобится ознакомиться с рекурсией)."
   ]
  },
  {
   "cell_type": "markdown",
   "metadata": {},
   "source": [
    "Числа Фибоначчи – это ряд чисел, в котором каждое следующее число равно сумме двух предыдущих:  1, 1, 2, 3, 5, 8, 13, ... . \n",
    "Формула:\n",
    "F1 = 1, F2 = 1, Fm = Fm-1 + Fm-2\n",
    "Пример:\n",
    "F3 = F2 + F1 = 1 + 1 = 2"
   ]
  },
  {
   "cell_type": "code",
   "execution_count": 4,
   "metadata": {},
   "outputs": [
    {
     "name": "stdout",
     "output_type": "stream",
     "text": [
      "Введите число первых чисел ряда Фибоначчи, для которых нужно расчитать сумму: 5\n",
      "Сумма первых 5 чисел Фибоначчи равна 12\n"
     ]
    }
   ],
   "source": [
    "def fibonacci_numbers(n):\n",
    "    if n < 2:\n",
    "        return 1\n",
    "    else:\n",
    "        return fibonacci_numbers(n - 1) + fibonacci_numbers(n - 2)\n",
    "\n",
    "n = int(input(\"Введите число первых чисел ряда Фибоначчи, для которых нужно расчитать сумму: \"))\n",
    "answer = 0\n",
    "for x in range(n):\n",
    "    answer += fibonacci_numbers(x)\n",
    "print(f'Сумма первых {n} чисел Фибоначчи равна {answer}')"
   ]
  },
  {
   "cell_type": "markdown",
   "metadata": {},
   "source": [
    "## Задание 3\n"
   ]
  },
  {
   "cell_type": "markdown",
   "metadata": {},
   "source": [
    "Напишите функцию, преобразующую произвольный список вида ['2018-01-01', 'yandex', 'cpc', 100] (он может быть любой длины) в словарь {'2018-01-01': {'yandex': {'cpc': 100}}}"
   ]
  },
  {
   "cell_type": "code",
   "execution_count": 64,
   "metadata": {},
   "outputs": [
    {
     "name": "stdout",
     "output_type": "stream",
     "text": [
      "{'2018-01-01': {'yandex': {'cpc': 100}}}\n"
     ]
    }
   ],
   "source": [
    "def inserted_dict(exlist):\n",
    "    var = exlist[-1]\n",
    "    x = 0\n",
    "    while x < len(exlist)-1:\n",
    "        ldict = dict()\n",
    "        #print(f'x={x}')\n",
    "        #print(f'pred_el={exlist[-2-x:-1-x]}')\n",
    "        #print(f'var={var}')\n",
    "        ldict.setdefault(exlist[-2-x:-1-x][0], var)\n",
    "        var = ldict\n",
    "        #print(f'var={var}')\n",
    "        #for key,value in ldict.items():\n",
    "        #    print(key, value)\n",
    "        x += 1\n",
    "    return ldict\n",
    "\n",
    "mylist = ['2018-01-01', 'yandex', 'cpc', 100]\n",
    "print(inserted_dict(mylist))"
   ]
  },
  {
   "cell_type": "markdown",
   "metadata": {},
   "source": [
    "## Задание 4"
   ]
  },
  {
   "cell_type": "markdown",
   "metadata": {},
   "source": [
    "Вы работаете секретарем и вам постоянно приходят различные документы. Вы должны быть очень внимательны, чтобы не потерять ни один документ. Каталог документов хранится в следующем виде:"
   ]
  },
  {
   "cell_type": "code",
   "execution_count": 5,
   "metadata": {},
   "outputs": [],
   "source": [
    "documents = [\n",
    "    {'type': 'passport', 'number': '2207 876234', 'name': 'Василий Гупкин'},\n",
    "    {'type': 'invoice', 'number': '11-2', 'name': 'Геннадий Покемонов'},\n",
    "    {'type': 'insurance', 'number': '10006', 'name': 'Аристарх Павлов'}\n",
    "]"
   ]
  },
  {
   "cell_type": "markdown",
   "metadata": {},
   "source": [
    "Перечень полок, на которых находятся документы хранится в следующем виде:"
   ]
  },
  {
   "cell_type": "code",
   "execution_count": 50,
   "metadata": {},
   "outputs": [],
   "source": [
    "directories = {\n",
    "    '1': ['2207 876234', '11-2', '5455 028765'],\n",
    "    '2': ['10006', '5400 028765', '5455 002299'],\n",
    "    '3': []\n",
    "}"
   ]
  },
  {
   "cell_type": "markdown",
   "metadata": {},
   "source": [
    "Необходимо реализовать пользовательские команды (внимание! это не название функций, которые должны быть выразительными, а команды, которые вводит пользователь, чтобы получить необходимый результат):\n",
    "  \n",
    "- p – people – команда, которая спросит номер документа и выведет имя человека, которому он принадлежит;  \n",
    "- s – shelf – команда, которая спросит номер документа и выведет номер полки, на которой он находится  \n",
    "Правильно обработайте ситуацию, когда пользователь будет вводить несуществующий документ.\n",
    "- l – list – команда, которая выведет список всех документов в формате   \n",
    "**passport \"2207 876234\" \"Василий Гупкин\"**  \n",
    "- as – add shelf – команда, которая спросит номер новой полки и добавит ее в перечень\n",
    "- d – delete – команда, которая спросит номер документа и удалит его из каталога и из перечня полок. Предусмотрите сценарий, когда пользователь вводит несуществующий документ;  \n",
    "- m – move – команда, которая спросит номер документа и целевую полку и переместит его с текущей полки на целевую. Корректно обработайте кейсы, когда пользователь пытается переместить несуществующий документ или переместить документ на несуществующую полку;  \n",
    "- a – add – команда, которая добавит новый документ в каталог и в перечень полок, спросив его номер, тип, имя владельца и номер полки, на котором он будет храниться."
   ]
  },
  {
   "cell_type": "code",
   "execution_count": 105,
   "metadata": {},
   "outputs": [
    {
     "name": "stdout",
     "output_type": "stream",
     "text": [
      "Введи команду: s\n",
      "Укажите номер документа: 11-2\n",
      "Документ с номером 11-2 находится на полке 11\n"
     ]
    }
   ],
   "source": [
    "def search_doc(num=''):\n",
    "    fl = 0\n",
    "    str_mes = ''\n",
    "    inx = ''\n",
    "    for el in documents:\n",
    "        if num == '': \n",
    "            fl = 1\n",
    "            str = ' '\n",
    "            for value in el.values():\n",
    "                str += value + ' '\n",
    "            str_mes += str.strip() + '\\n'\n",
    "        else:\n",
    "            if el['number'] == num:\n",
    "                fl = 1\n",
    "                str_mes = f'Документ с номером {num} принадлежит: {el[\"name\"]}'\n",
    "                inx = documents.index(el)\n",
    "    if fl == 0:\n",
    "        str_mes = f'Документ с номером {num} в каталоге не найден!'\n",
    "    answer['fl'] = fl\n",
    "    answer['str_mes'] = str_mes\n",
    "    answer['index'] = inx\n",
    "    return answer\n",
    "\n",
    "def add_doc(type_doc, num, name_user):\n",
    "    documents.append({'type': type_doc, 'number': num, 'name': name_user})\n",
    "    fl = 1\n",
    "    str_mes = f'Документ добавлен в каталог: {type_doc} {num} {name_user}'\n",
    "    answer['fl'] = fl\n",
    "    answer['str_mes'] = str_mes\n",
    "    return answer    \n",
    "                      \n",
    "def actions_dir(num='', shelf=''):\n",
    "    fl = 0\n",
    "    str_mes = ''\n",
    "    key_dir = ''\n",
    "    len_value = ''\n",
    "    if num != '' and shelf == '':\n",
    "        for key,value in directories.items():\n",
    "            if value != None:\n",
    "                if num in value:\n",
    "                    key_dir = key\n",
    "                    fl = 1\n",
    "                    str_mes = f'Документ с номером {num} находится на полке {key_dir}'\n",
    "        if fl == 0:\n",
    "            str_mes = f'Документ с номером {num} на полках не найден!'\n",
    "    if num == '' and shelf != '':\n",
    "        if shelf not in directories:\n",
    "            fl = 1\n",
    "            directories.setdefault(shelf)\n",
    "            str_mes = f'Полка с номером {shelf} добавлена!'\n",
    "        else:\n",
    "            str_mes = f'Полка с номером {shelf} уже существует!'\n",
    "    if num != '' and shelf != '':\n",
    "        list_value = directories[shelf]\n",
    "        if list_value != None:\n",
    "            list_value.append(num)\n",
    "            directories[shelf] = list_value\n",
    "        else:\n",
    "            directories[shelf] = [num]\n",
    "        fl = 1\n",
    "        str_mes = f'Документ с номером {num} добавлен на полку {shelf}' \n",
    "    answer['fl'] = fl\n",
    "    answer['str_mes'] = str_mes\n",
    "    answer['key'] = key_dir\n",
    "    answer['len'] = len_value\n",
    "    return answer   \n",
    "\n",
    "def del_dir(num, elkey, ellen):\n",
    "    str_mes = ''\n",
    "    if ellen == 1:\n",
    "        del directories[elkey]\n",
    "        str_mes = f'Документ с номером {num} и полка {elkey} удалены!'\n",
    "    else:\n",
    "        list_value = directories[elkey]\n",
    "        list_value.remove(num)\n",
    "        directories[elkey] = list_value\n",
    "        str_mes = f'Документ с номером {num} удален с полки {elkey}!'\n",
    "    answer['str_mes'] = str_mes\n",
    "    return answer   \n",
    "      \n",
    "                     \n",
    "def print_mes(str_mes):\n",
    "    print(str_mes)  \n",
    "\n",
    "    \n",
    "#fl = 0\n",
    "#str_mes = ''\n",
    "shelf = ''\n",
    "answer = dict()\n",
    "command = str(input('Введи команду: ')).lower().strip()\n",
    "if command == 'p':\n",
    "    num = input('Укажите номер документа: ')\n",
    "    answer = search_doc(num)\n",
    "    print_mes(answer.get('str_mes'))\n",
    "elif command == 'l':\n",
    "    answer = search_doc()\n",
    "    print_mes(answer.get('str_mes'))\n",
    "elif command == 's':\n",
    "    num = input('Укажите номер документа: ')\n",
    "    answer = actions_dir(num,'')\n",
    "    print_mes(answer.get('str_mes'))    \n",
    "elif command == 'as':\n",
    "    shelf = input('Укажите номер полки для добавления в перечень: ')\n",
    "    answer = actions_dir('' ,shelf)\n",
    "    print_mes(answer.get('str_mes'))\n",
    "elif command == 'a':\n",
    "    shelf = input('Укажите номер полки, на который нужно добавить новый документ: ')\n",
    "    answer = actions_dir('' ,shelf)\n",
    "    if answer.get('fl') == 0:\n",
    "        print_mes(answer.get('str_mes'))\n",
    "    else:\n",
    "        print_mes(answer.get('str_mes'))\n",
    "    num = input('Укажите номер документа: ')\n",
    "    answer = search_doc(num)\n",
    "    if answer.get('fl') == 1:\n",
    "        print_mes(answer.get('str_mes'))\n",
    "    else:\n",
    "        type_doc = input('Укажите тип документа: ')\n",
    "        name_user = input('Укажите имя владельца документа: ')\n",
    "        answer = add_doc(type_doc, num, name_user)\n",
    "        print_mes(answer.get('str_mes'))\n",
    "        answer = actions_dir(num, shelf)\n",
    "        print_mes(answer.get('str_mes'))\n",
    "elif command == 'd':\n",
    "    num = input('Укажите номер документа: ')\n",
    "    answer = search_doc(num)\n",
    "    if answer.get('fl') == 0:\n",
    "        print_mes(answer.get('str_mes'))\n",
    "    else:\n",
    "        eldel = answer.get('index')\n",
    "        if eldel != '':\n",
    "            del(documents[eldel])\n",
    "            print_mes(f'Документ с номером {num} удален из каталога!')\n",
    "            answer = actions_dir(num, '')\n",
    "            elkey = answer.get('key')\n",
    "            ellen = answer.get('len')\n",
    "            answer = del_dir(num, elkey, ellen)\n",
    "            print_mes(answer.get('str_mes'))\n",
    "elif command == 'm':\n",
    "    num = input('Укажите номер документа: ')\n",
    "    answer = search_doc(num)\n",
    "    if answer.get('fl') == 0:\n",
    "        print_mes(answer.get('str_mes'))\n",
    "    else:\n",
    "        shelf = input('Укажите номер полки, на которую нужно переместить документ: ')\n",
    "        answer = actions_dir('' ,shelf)\n",
    "        if answer.get('fl') == 0:\n",
    "            #проверить если такой номер на полке\n",
    "            answer = actions_dir(num)\n",
    "            if answer.get('fl') == 1:\n",
    "                if answer.get('key') == shelf:\n",
    "                    print_mes(f'Документ с номером {num} уже находиться на полке {shelf}')\n",
    "                else:\n",
    "                    elkey = answer.get('key')\n",
    "                    ellen = answer.get('len')\n",
    "                    answer = del_dir(num, elkey, ellen)\n",
    "                    print_mes(answer.get('str_mes'))\n",
    "                    answer = actions_dir(num, shelf)                \n",
    "                    print_mes(answer.get('str_mes'))\n",
    "        else:\n",
    "            #перемещение на вновь созданную полку\n",
    "            print_mes(answer.get('str_mes'))\n",
    "            answer = actions_dir(num, shelf)\n",
    "            print_mes(answer.get('str_mes'))                \n",
    "else:\n",
    "    str_mes = f'Команда {command} не распознана!'\n",
    "    print_mes(str_mes) "
   ]
  },
  {
   "cell_type": "markdown",
   "metadata": {},
   "source": []
  }
 ],
 "metadata": {
  "kernelspec": {
   "display_name": "Python 3",
   "language": "python",
   "name": "python3"
  },
  "language_info": {
   "codemirror_mode": {
    "name": "ipython",
    "version": 3
   },
   "file_extension": ".py",
   "mimetype": "text/x-python",
   "name": "python",
   "nbconvert_exporter": "python",
   "pygments_lexer": "ipython3",
   "version": "3.7.4"
  }
 },
 "nbformat": 4,
 "nbformat_minor": 2
}
